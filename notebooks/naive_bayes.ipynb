{
 "cells": [
  {
   "cell_type": "code",
   "execution_count": 1,
   "metadata": {},
   "outputs": [],
   "source": [
    "import os\n",
    "import sys\n",
    "nb_dir = os.path.split(os.getcwd())[0]\n",
    "if nb_dir not in sys.path:\n",
    "    sys.path.append(nb_dir)"
   ]
  },
  {
   "cell_type": "code",
   "execution_count": 3,
   "metadata": {},
   "outputs": [],
   "source": [
    "import pandas as pd\n",
    "from sklearn.preprocessing import OneHotEncoder\n",
    "import numpy as np\n",
    "from Project.NaiveBayesClassifier import NaiveBayes\n"
   ]
  },
  {
   "cell_type": "code",
   "execution_count": 4,
   "metadata": {},
   "outputs": [],
   "source": [
    "data = pd.read_csv('../data/agaricus-lepiota.data', header=None).to_numpy()\n",
    "y, X = np.split(data, [1], axis=1)\n"
   ]
  },
  {
   "cell_type": "code",
   "execution_count": 5,
   "metadata": {},
   "outputs": [
    {
     "ename": "NameError",
     "evalue": "name 'nbClassifier' is not defined",
     "output_type": "error",
     "traceback": [
      "\u001b[0;31m---------------------------------------------------------------------------\u001b[0m",
      "\u001b[0;31mNameError\u001b[0m                                 Traceback (most recent call last)",
      "Input \u001b[0;32mIn [5]\u001b[0m, in \u001b[0;36m<module>\u001b[0;34m\u001b[0m\n\u001b[1;32m      3\u001b[0m X_enc \u001b[38;5;241m=\u001b[39m enc\u001b[38;5;241m.\u001b[39mfit_transform(X)\n\u001b[1;32m      4\u001b[0m X_enc \u001b[38;5;241m=\u001b[39m X_enc\u001b[38;5;241m.\u001b[39mtoarray()\n\u001b[0;32m----> 5\u001b[0m label_indices \u001b[38;5;241m=\u001b[39m \u001b[43mnbClassifier\u001b[49m\u001b[38;5;241m.\u001b[39mget_label_indices(y_list)\n\u001b[1;32m      6\u001b[0m prior \u001b[38;5;241m=\u001b[39m nbClassifier\u001b[38;5;241m.\u001b[39mget_prior(label_indices)\n\u001b[1;32m      7\u001b[0m liks \u001b[38;5;241m=\u001b[39m nbClassifier\u001b[38;5;241m.\u001b[39mget_likelihood(X_enc, y_list)\n",
      "\u001b[0;31mNameError\u001b[0m: name 'nbClassifier' is not defined"
     ]
    }
   ],
   "source": [
    "nbClassifier = NaiveBayes()\n",
    "y_list = y.flatten().tolist()\n",
    "enc = OneHotEncoder()\n",
    "X_enc = enc.fit_transform(X)\n",
    "X_enc = X_enc.toarray()\n",
    "label_indices = nbClassifier.get_label_indices(y_list)\n",
    "prior = nbClassifier.get_prior(label_indices)\n",
    "liks = nbClassifier.get_likelihood(X_enc, y_list)\n",
    "posts = nbClassifier.get_posterior(X_enc, prior, liks)"
   ]
  },
  {
   "cell_type": "code",
   "execution_count": null,
   "metadata": {},
   "outputs": [],
   "source": []
  }
 ],
 "metadata": {
  "interpreter": {
   "hash": "7fa595fd67cd2434e881acf75da915877de55c3b4c8e5517e0ebfc5690f309cd"
  },
  "kernelspec": {
   "display_name": "Python 3.9.9 64-bit ('.venv': poetry)",
   "language": "python",
   "name": "python3"
  },
  "language_info": {
   "codemirror_mode": {
    "name": "ipython",
    "version": 3
   },
   "file_extension": ".py",
   "mimetype": "text/x-python",
   "name": "python",
   "nbconvert_exporter": "python",
   "pygments_lexer": "ipython3",
   "version": "3.9.9"
  },
  "orig_nbformat": 4
 },
 "nbformat": 4,
 "nbformat_minor": 2
}
